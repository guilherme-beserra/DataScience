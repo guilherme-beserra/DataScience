{
  "nbformat": 4,
  "nbformat_minor": 0,
  "metadata": {
    "colab": {
      "name": "Made in China.ipynb",
      "provenance": [],
      "collapsed_sections": [],
      "toc_visible": true,
      "include_colab_link": true
    },
    "kernelspec": {
      "name": "python3",
      "display_name": "Python 3"
    }
  },
  "cells": [
    {
      "cell_type": "markdown",
      "metadata": {
        "id": "view-in-github",
        "colab_type": "text"
      },
      "source": [
        "<a href=\"https://colab.research.google.com/github/guilherme-beserra/DataScience/blob/master/Made_in_China.ipynb\" target=\"_parent\"><img src=\"https://colab.research.google.com/assets/colab-badge.svg\" alt=\"Open In Colab\"/></a>"
      ]
    },
    {
      "cell_type": "markdown",
      "metadata": {
        "id": "8cv0NXjOpqHw"
      },
      "source": [
        "\n",
        "\n",
        "#### **Introdução ao Python**\n",
        "\n",
        "\n",
        "---\n",
        "\n",
        "\n",
        "## Made in China\n",
        "\n",
        "Você certamente tem algum produto Made in China, certo? \n",
        "Difícil é não achar um produto que não tenha origem no Grande Dragão Oriental.\n",
        "Mas isso acontecece desde quando?  \n",
        "\n",
        "O objetivo deste artigo é mostrar na linguagem Python a simplicidade em confirmar ou não essa \"invasão\" de produtos chineses no mercado brasileiro.\n",
        "\n",
        "<center><img width=\"70%\" src=\"https://static.portalnovarejo.com.br/wp-content/uploads/2019/07/china-made-bryan-snyder-reuters-edit-nv.jpg\n",
        "\"></center>\n",
        "Imagem: Bryan Snyder/ Reuters\n",
        "\n",
        "#### Importando uma biblioteca para manipular planilhas\n",
        "\n",
        "O [Pandas](https://pandas.pydata.org/docs/) é um pacote em código aberto (*Open Source*) escrito na linguagem Python que provê alta performance e fácil usabilidade na análise de dados. \n",
        "\n",
        "Uma de suas funcionalidades diz respeito a manipulação de planilhas em Excel. \n",
        "\n",
        "Como é uma biblioteca, fazemos sua importação através da cláusula `import pandas` segudida do '*aliases*' (apelido) \"pd\" (a escolha do analista). Este comando é utilizando sempre quando estamos utilizando pacotes (bibliotecas)em python. O apelido \"pd\" será utilizado ao longo do script para utilização dos métodos/funções da biblioteca.\n",
        "\n",
        "Então:\n",
        "\n",
        "`import pandas as pd`\n",
        "\n",
        "Que significa, a grosso modo:\n",
        "\n",
        "\"importe a biblioteca Pandas como pd\"\n"
      ]
    },
    {
      "cell_type": "code",
      "metadata": {
        "id": "OZqimCFSnSfE"
      },
      "source": [
        "# importar os pacotes necessários\n",
        "import pandas as pd"
      ],
      "execution_count": 44,
      "outputs": []
    },
    {
      "cell_type": "code",
      "metadata": {
        "id": "Mr8_YgZHgnTR",
        "colab": {
          "base_uri": "https://localhost:8080/"
        },
        "outputId": "7595db4b-d24b-4d91-c4db-e35f0523b852"
      },
      "source": [
        "from google.colab import drive\n",
        "drive.mount('/content/drive')"
      ],
      "execution_count": 4,
      "outputs": [
        {
          "output_type": "stream",
          "text": [
            "Mounted at /content/drive\n"
          ],
          "name": "stdout"
        }
      ]
    },
    {
      "cell_type": "markdown",
      "metadata": {
        "id": "mnW-UPA2oezb"
      },
      "source": [
        "#### Importar uma planilha de Excel usando a biblioteca `pandas` do Python\n",
        "\n",
        "Para o exemplo em questão, utilizaremos uma planilha obtida atavé do site do Ministério da Ministério da Indústria, Comércio Exterior e Serviços (http://comexstat.mdic.gov.br/pt/geral).\n",
        "\n",
        "A função `pd.read_excel` será utilizada para carregar a planilha Execel. O retorno da função será associada a uma variável do tipo Object. Mas não iremos nos importar com isso agora. \n",
        "\n"
      ]
    },
    {
      "cell_type": "code",
      "metadata": {
        "id": "6nALiw1AoHPw"
      },
      "source": [
        "# importar planilha do Excel\n",
        "planilha = pd.read_excel(\"/content/drive/MyDrive/Colab Notebooks/Sigmoidal - PDZ/Unidade I/IMPORTACOES DA CHINA_2000_2020_20210419.xlsx\")"
      ],
      "execution_count": 45,
      "outputs": []
    },
    {
      "cell_type": "code",
      "metadata": {
        "id": "7McdMsOhoYJI",
        "colab": {
          "base_uri": "https://localhost:8080/",
          "height": 700
        },
        "outputId": "cef637dd-62a3-4127-9542-24869811cc00"
      },
      "source": [
        "# basta inserir o nome da variável para verificar o resultado\n",
        "planilha"
      ],
      "execution_count": 46,
      "outputs": [
        {
          "output_type": "execute_result",
          "data": {
            "text/html": [
              "<div>\n",
              "<style scoped>\n",
              "    .dataframe tbody tr th:only-of-type {\n",
              "        vertical-align: middle;\n",
              "    }\n",
              "\n",
              "    .dataframe tbody tr th {\n",
              "        vertical-align: top;\n",
              "    }\n",
              "\n",
              "    .dataframe thead th {\n",
              "        text-align: right;\n",
              "    }\n",
              "</style>\n",
              "<table border=\"1\" class=\"dataframe\">\n",
              "  <thead>\n",
              "    <tr style=\"text-align: right;\">\n",
              "      <th></th>\n",
              "      <th>Ano</th>\n",
              "      <th>Países</th>\n",
              "      <th>Valor FOB (US$)</th>\n",
              "    </tr>\n",
              "  </thead>\n",
              "  <tbody>\n",
              "    <tr>\n",
              "      <th>0</th>\n",
              "      <td>2000</td>\n",
              "      <td>China</td>\n",
              "      <td>1219207561</td>\n",
              "    </tr>\n",
              "    <tr>\n",
              "      <th>1</th>\n",
              "      <td>2001</td>\n",
              "      <td>China</td>\n",
              "      <td>1320146539</td>\n",
              "    </tr>\n",
              "    <tr>\n",
              "      <th>2</th>\n",
              "      <td>2002</td>\n",
              "      <td>China</td>\n",
              "      <td>1549003930</td>\n",
              "    </tr>\n",
              "    <tr>\n",
              "      <th>3</th>\n",
              "      <td>2003</td>\n",
              "      <td>China</td>\n",
              "      <td>2143066339</td>\n",
              "    </tr>\n",
              "    <tr>\n",
              "      <th>4</th>\n",
              "      <td>2004</td>\n",
              "      <td>China</td>\n",
              "      <td>3703468228</td>\n",
              "    </tr>\n",
              "    <tr>\n",
              "      <th>5</th>\n",
              "      <td>2005</td>\n",
              "      <td>China</td>\n",
              "      <td>5337252810</td>\n",
              "    </tr>\n",
              "    <tr>\n",
              "      <th>6</th>\n",
              "      <td>2006</td>\n",
              "      <td>China</td>\n",
              "      <td>7975358764</td>\n",
              "    </tr>\n",
              "    <tr>\n",
              "      <th>7</th>\n",
              "      <td>2007</td>\n",
              "      <td>China</td>\n",
              "      <td>12596323631</td>\n",
              "    </tr>\n",
              "    <tr>\n",
              "      <th>8</th>\n",
              "      <td>2008</td>\n",
              "      <td>China</td>\n",
              "      <td>20035446107</td>\n",
              "    </tr>\n",
              "    <tr>\n",
              "      <th>9</th>\n",
              "      <td>2009</td>\n",
              "      <td>China</td>\n",
              "      <td>15904566841</td>\n",
              "    </tr>\n",
              "    <tr>\n",
              "      <th>10</th>\n",
              "      <td>2010</td>\n",
              "      <td>China</td>\n",
              "      <td>25591491902</td>\n",
              "    </tr>\n",
              "    <tr>\n",
              "      <th>11</th>\n",
              "      <td>2011</td>\n",
              "      <td>China</td>\n",
              "      <td>32786183569</td>\n",
              "    </tr>\n",
              "    <tr>\n",
              "      <th>12</th>\n",
              "      <td>2012</td>\n",
              "      <td>China</td>\n",
              "      <td>34244740324</td>\n",
              "    </tr>\n",
              "    <tr>\n",
              "      <th>13</th>\n",
              "      <td>2013</td>\n",
              "      <td>China</td>\n",
              "      <td>37325464635</td>\n",
              "    </tr>\n",
              "    <tr>\n",
              "      <th>14</th>\n",
              "      <td>2014</td>\n",
              "      <td>China</td>\n",
              "      <td>37349481603</td>\n",
              "    </tr>\n",
              "    <tr>\n",
              "      <th>15</th>\n",
              "      <td>2015</td>\n",
              "      <td>China</td>\n",
              "      <td>30714059053</td>\n",
              "    </tr>\n",
              "    <tr>\n",
              "      <th>16</th>\n",
              "      <td>2016</td>\n",
              "      <td>China</td>\n",
              "      <td>23349925863</td>\n",
              "    </tr>\n",
              "    <tr>\n",
              "      <th>17</th>\n",
              "      <td>2017</td>\n",
              "      <td>China</td>\n",
              "      <td>27553978176</td>\n",
              "    </tr>\n",
              "    <tr>\n",
              "      <th>18</th>\n",
              "      <td>2018</td>\n",
              "      <td>China</td>\n",
              "      <td>35157236888</td>\n",
              "    </tr>\n",
              "    <tr>\n",
              "      <th>19</th>\n",
              "      <td>2019</td>\n",
              "      <td>China</td>\n",
              "      <td>36028297004</td>\n",
              "    </tr>\n",
              "    <tr>\n",
              "      <th>20</th>\n",
              "      <td>2020</td>\n",
              "      <td>China</td>\n",
              "      <td>34778441387</td>\n",
              "    </tr>\n",
              "  </tbody>\n",
              "</table>\n",
              "</div>"
            ],
            "text/plain": [
              "     Ano Países  Valor FOB (US$)\n",
              "0   2000  China       1219207561\n",
              "1   2001  China       1320146539\n",
              "2   2002  China       1549003930\n",
              "3   2003  China       2143066339\n",
              "4   2004  China       3703468228\n",
              "5   2005  China       5337252810\n",
              "6   2006  China       7975358764\n",
              "7   2007  China      12596323631\n",
              "8   2008  China      20035446107\n",
              "9   2009  China      15904566841\n",
              "10  2010  China      25591491902\n",
              "11  2011  China      32786183569\n",
              "12  2012  China      34244740324\n",
              "13  2013  China      37325464635\n",
              "14  2014  China      37349481603\n",
              "15  2015  China      30714059053\n",
              "16  2016  China      23349925863\n",
              "17  2017  China      27553978176\n",
              "18  2018  China      35157236888\n",
              "19  2019  China      36028297004\n",
              "20  2020  China      34778441387"
            ]
          },
          "metadata": {
            "tags": []
          },
          "execution_count": 46
        }
      ]
    },
    {
      "cell_type": "markdown",
      "metadata": {
        "id": "607XSmHAqq3h"
      },
      "source": [
        "Embora carregada apenas a primeira aba na primeira função de leitura (por *default* o método `read_excel` carrega apenas a primeira aba), é possível listar todas as abas da plainha carregada com o comando `planilha.keys()`. "
      ]
    },
    {
      "cell_type": "markdown",
      "metadata": {
        "id": "lXto8oyfq1M_"
      },
      "source": [
        "#### Acessar uma coluna específica da planilha\n",
        "\n",
        "Para acessar uma coluna da tabela, executamos  `planilha['coluna']`.\n",
        "\n",
        "Veja abaixo:"
      ]
    },
    {
      "cell_type": "code",
      "metadata": {
        "id": "XFNeBn-fq99N",
        "colab": {
          "base_uri": "https://localhost:8080/"
        },
        "outputId": "a0cc510b-ad4b-48f7-f9c1-17a8bea1d20a"
      },
      "source": [
        "# acessando uma coluna\n",
        "planilha[\"Ano\"]"
      ],
      "execution_count": 47,
      "outputs": [
        {
          "output_type": "execute_result",
          "data": {
            "text/plain": [
              "0     2000\n",
              "1     2001\n",
              "2     2002\n",
              "3     2003\n",
              "4     2004\n",
              "5     2005\n",
              "6     2006\n",
              "7     2007\n",
              "8     2008\n",
              "9     2009\n",
              "10    2010\n",
              "11    2011\n",
              "12    2012\n",
              "13    2013\n",
              "14    2014\n",
              "15    2015\n",
              "16    2016\n",
              "17    2017\n",
              "18    2018\n",
              "19    2019\n",
              "20    2020\n",
              "Name: Ano, dtype: int64"
            ]
          },
          "metadata": {
            "tags": []
          },
          "execution_count": 47
        }
      ]
    },
    {
      "cell_type": "code",
      "metadata": {
        "id": "b4uOV54sJJgJ"
      },
      "source": [
        ""
      ],
      "execution_count": null,
      "outputs": []
    },
    {
      "cell_type": "markdown",
      "metadata": {
        "id": "n48j8FsjrI4I"
      },
      "source": [
        "Para realizar uma operação de soma numa coluna, usaremos o camando  `sum`."
      ]
    },
    {
      "cell_type": "code",
      "metadata": {
        "id": "vVrJviVarNyx",
        "colab": {
          "base_uri": "https://localhost:8080/"
        },
        "outputId": "66a962e4-3525-43b8-bb5b-0f43ab43d3aa"
      },
      "source": [
        "# somando os valores de uma coluna Valor FOB (US$) referente aos anos de 2000 a 2020\n",
        "planilha['Valor FOB (US$)'].sum()"
      ],
      "execution_count": 48,
      "outputs": [
        {
          "output_type": "execute_result",
          "data": {
            "text/plain": [
              "426663141154"
            ]
          },
          "metadata": {
            "tags": []
          },
          "execution_count": 48
        }
      ]
    },
    {
      "cell_type": "markdown",
      "metadata": {
        "id": "LNE9C6cirPeX"
      },
      "source": [
        "Para cálculo da média, usaremos o comando `mean`."
      ]
    },
    {
      "cell_type": "code",
      "metadata": {
        "id": "yj0qiXsTrSf5",
        "colab": {
          "base_uri": "https://localhost:8080/"
        },
        "outputId": "b3490a52-7143-4254-a9c7-833ecffc736c"
      },
      "source": [
        "# calculando a média aritmética dos valores de uma coluna, obtemos cerca de US$ 20,3 bilhões em importação por ano\n",
        "planilha['Valor FOB (US$)'].mean()"
      ],
      "execution_count": 49,
      "outputs": [
        {
          "output_type": "execute_result",
          "data": {
            "text/plain": [
              "20317292435.904762"
            ]
          },
          "metadata": {
            "tags": []
          },
          "execution_count": 49
        }
      ]
    },
    {
      "cell_type": "markdown",
      "metadata": {
        "id": "v4nee5yyrUWN"
      },
      "source": [
        "Na análise estatística temos o conceito de desvio padrão, ou seja, o quanto os valores da amostra variam em relação a média. \n",
        "\n",
        "Neste caso, basta aplicar a função `std` (*Standard Deviation*):"
      ]
    },
    {
      "cell_type": "code",
      "metadata": {
        "id": "XPSJO4r2rXkC",
        "colab": {
          "base_uri": "https://localhost:8080/"
        },
        "outputId": "cf5ee68f-aa8b-4d96-ec6d-c7a86331f9b4"
      },
      "source": [
        "# calculando o desvio padrão de uma coluna, verificamos que os valores anuais de importação variam cerca de US$ 14 bilhões.\n",
        "planilha['Valor FOB (US$)'].std()"
      ],
      "execution_count": 50,
      "outputs": [
        {
          "output_type": "execute_result",
          "data": {
            "text/plain": [
              "14040245484.805813"
            ]
          },
          "metadata": {
            "tags": []
          },
          "execution_count": 50
        }
      ]
    },
    {
      "cell_type": "markdown",
      "metadata": {
        "id": "6ZQKZhTmrYUw"
      },
      "source": [
        "#### Gerando gráficos com dados da planilha\n",
        "\n",
        "Depois de visualizar e manipular os dados tabulares, o Pandas facilita na tarefa de gerar visualizações mais complexas mas de maneira simples e prática.\n",
        "\n",
        "Com as informações carregas, é possível construir facilmente um **Gráfico de Barras** que demonstre o total de importações durante os anos de 2000 a 2020.\n",
        "\n",
        "No eixo X (horizontal) temos os anos, e no eixo Y (vertical) o montante de importações em 10 bilões de dólares."
      ]
    },
    {
      "cell_type": "markdown",
      "metadata": {
        "id": "6HEc74ZKrw5y"
      },
      "source": [
        "Para selecionar colunas, continuamos fazendo da mesma forma que fizemos anteriormente."
      ]
    },
    {
      "cell_type": "code",
      "metadata": {
        "id": "hQUj6gRCr7CI",
        "colab": {
          "base_uri": "https://localhost:8080/",
          "height": 323
        },
        "outputId": "8307e49f-5a3a-48e4-b89e-56b26b94da1c"
      },
      "source": [
        "# plotando gráfico de linhas\n",
        "planilha.plot(\"Ano\", \"Valor FOB (US$)\", 'bar')"
      ],
      "execution_count": 42,
      "outputs": [
        {
          "output_type": "execute_result",
          "data": {
            "text/plain": [
              "<matplotlib.axes._subplots.AxesSubplot at 0x7fc98ccf0110>"
            ]
          },
          "metadata": {
            "tags": []
          },
          "execution_count": 42
        },
        {
          "output_type": "display_data",
          "data": {
            "image/png": "[encoded data removed]",
            "text/plain": [
              "<Figure size 432x288 with 1 Axes>"
            ]
          },
          "metadata": {
            "tags": [],
            "needs_background": "light"
          }
        }
      ]
    },
    {
      "cell_type": "markdown",
      "metadata": {
        "id": "-BPosCurwiNI"
      },
      "source": [
        "Pela evolução das barras, podemos confirmar o aumento das importações de produtos e serviços chineses entre o período de 2000 a 2020, tendo uma queda entre os anos de 2015 e 2017 mas logo retomando em 2018."
      ]
    }
  ]
}